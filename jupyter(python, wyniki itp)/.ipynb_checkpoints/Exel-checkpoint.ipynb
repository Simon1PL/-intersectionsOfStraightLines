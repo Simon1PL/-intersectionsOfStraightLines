{
 "cells": [
  {
   "cell_type": "markdown",
   "metadata": {},
   "source": [
    "## Tabela z exela(\"raport.xls\") do tabeli w pythonie(zapisuje do zmiennej \"TABELA\"):"
   ]
  },
  {
   "cell_type": "code",
   "execution_count": 31,
   "metadata": {},
   "outputs": [],
   "source": [
    "def exelToPytong():\n",
    "    import xlrd\n",
    "    book = xlrd.open_workbook(\"raport.xls\")\n",
    "    sh = book.sheet_by_index(0)\n",
    "\n",
    "    global TABELA\n",
    "    TABELA = [[0 for i in range(sh.nrows)] for j in range(sh.ncols)]\n",
    "    for a in range(sh.nrows):\n",
    "        for b in range(sh.ncols):\n",
    "            TABELA[a][b] = 1 if sh.cell_value(a, b) else 0"
   ]
  },
  {
   "cell_type": "markdown",
   "metadata": {},
   "source": [
    "## Funkcja sprawdzajaca poprawnosc ukladu:"
   ]
  },
  {
   "cell_type": "code",
   "execution_count": 32,
   "metadata": {},
   "outputs": [],
   "source": [
    "def sprawdzPoprawnosc(wypisac) :\n",
    "    zlozonosc=0\n",
    "    for i in range(0, rozmiarTabeli):\n",
    "        for j in range(0, rozmiarTabeli):\n",
    "            for k in range(j+1, rozmiarTabeli):\n",
    "                zlozonosc+=1\n",
    "                if(TABELA[i][k]==1 & TABELA[i][j]==1):\n",
    "                    for u in range(i+1, rozmiarTabeli):\n",
    "                        if(TABELA[u][k]==1 & TABELA[u][j]==1):\n",
    "                            if(wypisac): print(\"kolumny: \",j,k,\" wiersze: \",i,u)\n",
    "                            return False\n",
    "    if(wypisac): print(zlozonosc)\n",
    "    return True"
   ]
  },
  {
   "cell_type": "markdown",
   "metadata": {},
   "source": [
    "## Funkcja uzupelniajaca tabele(wolna):\n",
    "### calkiem sie nie oplaca randomowo czemu :O"
   ]
  },
  {
   "cell_type": "code",
   "execution_count": 33,
   "metadata": {},
   "outputs": [],
   "source": [
    "def funkcjaRekurencyjna(niesprawdzoneKrotki):\n",
    "    from random import randint\n",
    "    import copy\n",
    "    while(True):\n",
    "        global i, pozostaleWiersze, kropkiWWierszach\n",
    "        i+=1\n",
    "        wiersz = pozostaleWiersze[0] # randint(0, len(pozostaleWiersze)-1)]\n",
    "        if(len(niesprawdzoneKrotki[wiersz])==0): \n",
    "            return False\n",
    "        kolumna = niesprawdzoneKrotki[wiersz][0] # randint(0, len(niesprawdzoneKrotki[wiersz])-1)]\n",
    "        niesprawdzoneKrotki[wiersz].remove(kolumna)\n",
    "        TABELA[wiersz][kolumna]=1\n",
    "        if(sprawdzPoprawnosc(False)): \n",
    "            zostalUsuniety = False\n",
    "            kropkiWWierszach[wiersz]+=1\n",
    "            if(kropkiWWierszach[wiersz]==iloscKropek): \n",
    "                pozostaleWiersze.remove(wiersz)\n",
    "                zostalUsuniety = True\n",
    "            if(len(pozostaleWiersze)==0): return True\n",
    "            if(funkcjaRekurencyjna(copy.deepcopy(niesprawdzoneKrotki))): return True\n",
    "            else: \n",
    "                kropkiWWierszach[wiersz]-=1\n",
    "                if(zostalUsuniety): pozostaleWiersze.insert(0,wiersz)\n",
    "        TABELA[wiersz][kolumna]=0\n",
    "def funkcja():\n",
    "    global i, pozostaleWiersze, kropkiWWierszach, TABELA\n",
    "    TABELA = [[0 for i in range(rozmiarTabeli)] for j in range(rozmiarTabeli)]\n",
    "    kropkiWWierszach = [0 for i in range(rozmiarTabeli)]\n",
    "    niesprawdzoneKrotki = [[i for i in range(rozmiarTabeli)] for j in range(rozmiarTabeli)]\n",
    "    pozostaleWiersze = [i for i in range(rozmiarTabeli)]\n",
    "    i=0\n",
    "    %time funkcjaRekurencyjna(niesprawdzoneKrotki)\n",
    "    print(rozmiarTabeli,i)"
   ]
  },
  {
   "cell_type": "markdown",
   "metadata": {},
   "source": [
    "## Wydrukowanie na ekranie tabeli:"
   ]
  },
  {
   "cell_type": "code",
   "execution_count": 34,
   "metadata": {},
   "outputs": [],
   "source": [
    "def printTable():\n",
    "    string=\"%3s\" %\"\"\n",
    "    for i in range(0, rozmiarTabeli):\n",
    "        string+=str(i%10)+\" \"\n",
    "    print(string, end=' ')\n",
    "\n",
    "    for a in range(rozmiarTabeli):\n",
    "        print(\"\\n%2s \" % a, end='')\n",
    "        for b in range(rozmiarTabeli):\n",
    "            print (1 if TABELA[a][b] else '-', end=' ')\n",
    "    print()"
   ]
  },
  {
   "cell_type": "markdown",
   "metadata": {},
   "source": [
    "## Funkcja uzupełniająca table(zaczynając od układu prostych):"
   ]
  },
  {
   "cell_type": "code",
   "execution_count": 35,
   "metadata": {},
   "outputs": [],
   "source": [
    "def pointsList():\n",
    "    result = [[i for i in range(1, iloscKropek+1)]]\n",
    "    for j in range(1, iloscKropek):\n",
    "        tab = [1]\n",
    "        for i in range(2, iloscKropek+1):\n",
    "            tab.append(i+liczbaPierwsza*j)\n",
    "        result.append(tab)\n",
    "    for i in range(2, iloscKropek+1):\n",
    "        for j in range(0, iloscKropek-1):\n",
    "            tab = [i]\n",
    "            for k in range(0, iloscKropek-1):\n",
    "                numer = i-1+j+(i-2)*k\n",
    "                numer %= iloscKropek-1\n",
    "                if (numer==0): numer=iloscKropek-1\n",
    "                numer += iloscKropek+k*(iloscKropek-1) \n",
    "                tab.append(numer)\n",
    "            result.append(tab)\n",
    "    tabela = [[0 for i in range(rozmiarTabeli)] for j in range(rozmiarTabeli)]\n",
    "    for a in range(rozmiarTabeli):\n",
    "        for b in result[a]:\n",
    "            tabela[a][b-1] = 1\n",
    "    # print(result)\n",
    "    return tabela, result"
   ]
  },
  {
   "cell_type": "markdown",
   "metadata": {},
   "source": [
    "## Rysowanie w exelu(skosów), nwm po co:"
   ]
  },
  {
   "cell_type": "code",
   "execution_count": 36,
   "metadata": {},
   "outputs": [],
   "source": [
    "import xlwt\n",
    "book = xlwt.Workbook(encoding=\"utf-8\")\n",
    "sheet = book.add_sheet(\"tabela\")\n",
    "\n",
    "def rysujSkos(przesuniecieWDół) :\n",
    "    for i in range (0, rozmiarTabeli) :\n",
    "        sheet.write((i+przesuniecieWDół)%rozmiarTabeli, i, 1)\n",
    "\n",
    "def rysuj() :\n",
    "    numerySkosow = [0, 20, 34] #[0, 1, 3, 7, 12, 20, 34]\n",
    "    for i in numerySkosow :\n",
    "        rysujSkos(i)\n",
    "    print(numerySkosow)\n",
    "\n",
    "book.save(\"raport.xls\")"
   ]
  },
  {
   "cell_type": "markdown",
   "metadata": {},
   "source": [
    "## Tabela z tabeli w pythonie(TABELA) do exela(\"raport.xls\"):"
   ]
  },
  {
   "cell_type": "code",
   "execution_count": 37,
   "metadata": {},
   "outputs": [],
   "source": [
    "def pytongToExel():\n",
    "    import xlwt\n",
    "    book = xlwt.Workbook(encoding=\"utf-8\")\n",
    "    sheet = book.add_sheet(\"tabela\")\n",
    "\n",
    "    for a in range(rozmiarTabeli):\n",
    "        for b in range(rozmiarTabeli):\n",
    "            if(TABELA[a][b]==1):\n",
    "                sheet.write(a, b, 1)\n",
    "    book.save(\"raport.xls\")"
   ]
  },
  {
   "cell_type": "markdown",
   "metadata": {},
   "source": [
    "## Sprawdzenie ilosci punktów w wierszach i kolumnach:"
   ]
  },
  {
   "cell_type": "code",
   "execution_count": 38,
   "metadata": {},
   "outputs": [],
   "source": [
    "def checkPointsAmmount():\n",
    "    for a in range(rozmiarTabeli):\n",
    "        res1=0\n",
    "        res2=0\n",
    "        for b in range(rozmiarTabeli):\n",
    "            if(TABELA[b][a] == 1):\n",
    "                res2+=1\n",
    "            if(TABELA[a][b] == 1):\n",
    "                res1+=1\n",
    "        if (res1!=iloscKropek | res2!=iloscKropek): return False\n",
    "    return True"
   ]
  },
  {
   "cell_type": "markdown",
   "metadata": {},
   "source": [
    "## Program(main):"
   ]
  },
  {
   "cell_type": "code",
   "execution_count": 39,
   "metadata": {},
   "outputs": [
    {
     "name": "stdout",
     "output_type": "stream",
     "text": [
      "14415\n",
      "True\n",
      "True\n",
      "   0 1 2 3 4 5 6 7 8 9 0 1 2 3 4 5 6 7 8 9 0 1 2 3 4 5 6 7 8 9 0  \n",
      " 0 1 1 1 1 1 1 - - - - - - - - - - - - - - - - - - - - - - - - - \n",
      " 1 1 - - - - - 1 1 1 1 1 - - - - - - - - - - - - - - - - - - - - \n",
      " 2 1 - - - - - - - - - - 1 1 1 1 1 - - - - - - - - - - - - - - - \n",
      " 3 1 - - - - - - - - - - - - - - - 1 1 1 1 1 - - - - - - - - - - \n",
      " 4 1 - - - - - - - - - - - - - - - - - - - - 1 1 1 1 1 - - - - - \n",
      " 5 1 - - - - - - - - - - - - - - - - - - - - - - - - - 1 1 1 1 1 \n",
      " 6 - 1 - - - - 1 - - - - 1 - - - - 1 - - - - 1 - - - - 1 - - - - \n",
      " 7 - 1 - - - - - 1 - - - - 1 - - - - 1 - - - - 1 - - - - 1 - - - \n",
      " 8 - 1 - - - - - - 1 - - - - 1 - - - - 1 - - - - 1 - - - - 1 - - \n",
      " 9 - 1 - - - - - - - 1 - - - - 1 - - - - 1 - - - - 1 - - - - 1 - \n",
      "10 - 1 - - - - - - - - 1 - - - - 1 - - - - 1 - - - - 1 - - - - 1 \n",
      "11 - - 1 - - - - 1 - - - - - 1 - - - - - 1 - - - - - 1 1 - - - - \n",
      "12 - - 1 - - - - - 1 - - - - - 1 - - - - - 1 1 - - - - - 1 - - - \n",
      "13 - - 1 - - - - - - 1 - - - - - 1 1 - - - - - 1 - - - - - 1 - - \n",
      "14 - - 1 - - - - - - - 1 1 - - - - - 1 - - - - - 1 - - - - - 1 - \n",
      "15 - - 1 - - - 1 - - - - - 1 - - - - - 1 - - - - - 1 - - - - - 1 \n",
      "16 - - - 1 - - - - 1 - - - - - - 1 - 1 - - - - - - 1 - 1 - - - - \n",
      "17 - - - 1 - - - - - 1 - 1 - - - - - - 1 - - - - - - 1 - 1 - - - \n",
      "18 - - - 1 - - - - - - 1 - 1 - - - - - - 1 - 1 - - - - - - 1 - - \n",
      "19 - - - 1 - - 1 - - - - - - 1 - - - - - - 1 - 1 - - - - - - 1 - \n",
      "20 - - - 1 - - - 1 - - - - - - 1 - 1 - - - - - - 1 - - - - - - 1 \n",
      "21 - - - - 1 - - - - 1 - - 1 - - - - - - - 1 - - 1 - - 1 - - - - \n",
      "22 - - - - 1 - - - - - 1 - - 1 - - 1 - - - - - - - 1 - - 1 - - - \n",
      "23 - - - - 1 - 1 - - - - - - - 1 - - 1 - - - - - - - 1 - - 1 - - \n",
      "24 - - - - 1 - - 1 - - - - - - - 1 - - 1 - - 1 - - - - - - - 1 - \n",
      "25 - - - - 1 - - - 1 - - 1 - - - - - - - 1 - - 1 - - - - - - - 1 \n",
      "26 - - - - - 1 - - - - 1 - - - 1 - - - 1 - - - 1 - - - 1 - - - - \n",
      "27 - - - - - 1 1 - - - - - - - - 1 - - - 1 - - - 1 - - - 1 - - - \n",
      "28 - - - - - 1 - 1 - - - 1 - - - - - - - - 1 - - - 1 - - - 1 - - \n",
      "29 - - - - - 1 - - 1 - - - 1 - - - 1 - - - - - - - - 1 - - - 1 - \n",
      "30 - - - - - 1 - - - 1 - - - 1 - - - 1 - - - 1 - - - - - - - - 1 \n"
     ]
    }
   ],
   "source": [
    "liczbaPierwsza = 5\n",
    "iloscKropek = liczbaPierwsza + 1\n",
    "rozmiarTabeli = liczbaPierwsza**2 + liczbaPierwsza + 1\n",
    "TABELA, result = pointsList()\n",
    "print(sprawdzPoprawnosc(True))\n",
    "print(checkPointsAmmount())\n",
    "printTable()\n",
    "pytongToExel()"
   ]
  },
  {
   "cell_type": "code",
   "execution_count": 40,
   "metadata": {},
   "outputs": [
    {
     "name": "stdout",
     "output_type": "stream",
     "text": [
      "[ 0.  0.  0.  0. 31.]\n"
     ]
    }
   ],
   "source": [
    "import numpy as np\n",
    "t=np.zeros(iloscKropek-1)\n",
    "for i in result:\n",
    "     t[len(i)-2]+=1\n",
    "print(t)"
   ]
  },
  {
   "cell_type": "code",
   "execution_count": 41,
   "metadata": {},
   "outputs": [
    {
     "name": "stdout",
     "output_type": "stream",
     "text": [
      "[1, 2, 3, 4, 5, 6]\n",
      "[1, 7, 8, 9, 10, 11]\n",
      "[1, 12, 13, 14, 15, 16]\n",
      "[1, 17, 18, 19, 20, 21]\n",
      "[1, 22, 23, 24, 25, 26]\n",
      "[1, 27, 28, 29, 30, 31]\n",
      "[2, 7, 12, 17, 22, 27]\n",
      "[2, 8, 13, 18, 23, 28]\n",
      "[2, 9, 14, 19, 24, 29]\n",
      "[2, 10, 15, 20, 25, 30]\n",
      "[2, 11, 16, 21, 26, 31]\n",
      "[3, 8, 14, 20, 26, 27]\n",
      "[3, 9, 15, 21, 22, 28]\n",
      "[3, 10, 16, 17, 23, 29]\n",
      "[3, 11, 12, 18, 24, 30]\n",
      "[3, 7, 13, 19, 25, 31]\n",
      "[4, 9, 16, 18, 25, 27]\n",
      "[4, 10, 12, 19, 26, 28]\n",
      "[4, 11, 13, 20, 22, 29]\n",
      "[4, 7, 14, 21, 23, 30]\n",
      "[4, 8, 15, 17, 24, 31]\n",
      "[5, 10, 13, 21, 24, 27]\n",
      "[5, 11, 14, 17, 25, 28]\n",
      "[5, 7, 15, 18, 26, 29]\n",
      "[5, 8, 16, 19, 22, 30]\n",
      "[5, 9, 12, 20, 23, 31]\n",
      "[6, 11, 15, 19, 23, 27]\n",
      "[6, 7, 16, 20, 24, 28]\n",
      "[6, 8, 12, 21, 25, 29]\n",
      "[6, 9, 13, 17, 26, 30]\n",
      "[6, 10, 14, 18, 22, 31]\n"
     ]
    }
   ],
   "source": [
    "for i in result:\n",
    "    print(i)"
   ]
  },
  {
   "cell_type": "markdown",
   "metadata": {},
   "source": [
    "## Usuwanie prostych:"
   ]
  },
  {
   "cell_type": "code",
   "execution_count": 42,
   "metadata": {},
   "outputs": [
    {
     "name": "stdout",
     "output_type": "stream",
     "text": [
      "{(0, 0, 3, 12, 16), (0, 1, 3, 15, 12), (1, 0, 0, 20, 10), (0, 1, 0, 15, 15), (0, 0, 6, 12, 13)}\n"
     ]
    }
   ],
   "source": [
    "import copy\n",
    "wynik=set()\n",
    "ileUsuwamNaStart = 2\n",
    "usuwamWsumie = 4\n",
    "tablicaPunktow=copy.deepcopy(result) #po programie bedzie resultem bez usunietych na start protych\n",
    "def usunDanaProsta(numerProstej, tablica):\n",
    "     for i in tablica:\n",
    "        if(numerProstej in i):\n",
    "            i.remove(numerProstej)\n",
    "\n",
    "def usunProste(zostaloDoUsuniecia, tablica):\n",
    "    if (zostaloDoUsuniecia==0): \n",
    "        t=np.zeros(iloscKropek-1).astype(int)\n",
    "        for i in tablica:\n",
    "            t[len(i)-2]+=1\n",
    "        wynik.add(tuple(t))\n",
    "        return\n",
    "    for i in range(ileUsuwamNaStart+1, rozmiarTabeli+1):\n",
    "        tmp = copy.deepcopy(tablica)\n",
    "        usunDanaProsta(i, tmp)\n",
    "        usunProste(zostaloDoUsuniecia-1, tmp)\n",
    "    \n",
    "for a in range(1,ileUsuwamNaStart+1):\n",
    "    usunDanaProsta(a, tablicaPunktow)\n",
    "usunProste(usuwamWsumie-ileUsuwamNaStart, tablicaPunktow)\n",
    "print(wynik)"
   ]
  },
  {
   "cell_type": "code",
   "execution_count": 43,
   "metadata": {},
   "outputs": [
    {
     "name": "stdout",
     "output_type": "stream",
     "text": [
      "False\n",
      "True\n",
      "True\n",
      "False\n",
      "True\n"
     ]
    }
   ],
   "source": [
    "print((0, 0, 1, 21, 9) in wynik)\n",
    "\n",
    "print((1, 0, 0, 20, 10) in wynik)\n",
    "print((0, 0, 6, 12, 13) in wynik)\n",
    "print((0, 2, 0, 18, 11) in wynik)\n",
    "print((0, 1, 3, 15, 12) in wynik)"
   ]
  },
  {
   "cell_type": "code",
   "execution_count": null,
   "metadata": {},
   "outputs": [],
   "source": []
  }
 ],
 "metadata": {
  "kernelspec": {
   "display_name": "Python 3",
   "language": "python",
   "name": "python3"
  },
  "language_info": {
   "codemirror_mode": {
    "name": "ipython",
    "version": 3
   },
   "file_extension": ".py",
   "mimetype": "text/x-python",
   "name": "python",
   "nbconvert_exporter": "python",
   "pygments_lexer": "ipython3",
   "version": "3.7.6"
  }
 },
 "nbformat": 4,
 "nbformat_minor": 4
}
